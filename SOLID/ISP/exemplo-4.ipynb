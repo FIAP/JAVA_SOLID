{
 "cells": [
  {
   "cell_type": "markdown",
   "metadata": {},
   "source": [
    "O Princípio da Segregação de Interfaces (ISP) afirma que os clientes não devem ser forçados a depender de interfaces que não utilizam. Em outras palavras, é melhor criar várias interfaces específicas ao invés de uma interface geral."
   ]
  },
  {
   "cell_type": "code",
   "execution_count": 1,
   "metadata": {},
   "outputs": [],
   "source": [
    "public abstract class Investimento {\n",
    "    protected String nome;\n",
    "    protected Double valorInvestido;\n",
    "\n",
    "    public Investimento(String nome, double valorInvestido) {\n",
    "        this.nome = nome;\n",
    "        this.valorInvestido = valorInvestido;\n",
    "    }\n",
    "\n",
    "    public abstract double calcularRetornoAnual();\n",
    "    public abstract double calcularDepreciacao();\n",
    "\n",
    "    public String descrever() {\n",
    "        return \"Investimento: \" + nome + \", Valor Investido: R$ \" + valorInvestido;\n",
    "    }\n",
    "}"
   ]
  },
  {
   "cell_type": "code",
   "execution_count": 2,
   "metadata": {},
   "outputs": [],
   "source": [
    "public class InvestimentoPrinter {\n",
    "    public static void imprimirRetornoAnual(Investimento investimento) {\n",
    "        System.out.println(investimento.descrever());\n",
    "        System.out.println(\"Retorno anual: R$ \" + investimento.calcularRetornoAnual());\n",
    "    }\n",
    "}\n"
   ]
  },
  {
   "cell_type": "code",
   "execution_count": 4,
   "metadata": {},
   "outputs": [],
   "source": [
    "public class Titulo extends Investimento {\n",
    "    private double taxaDeJurosAnual;\n",
    "\n",
    "    public Titulo(String nome, double valorInvestido, double taxaDeJurosAnual) {\n",
    "        super(nome, valorInvestido);\n",
    "        this.taxaDeJurosAnual = taxaDeJurosAnual;\n",
    "    }\n",
    "\n",
    "    @Override\n",
    "    public double calcularRetornoAnual() {\n",
    "        return this.valorInvestido * (this.taxaDeJurosAnual / 100);\n",
    "    }\n",
    "\n",
    "    @Override\n",
    "    public double calcularDepreciacao() {\n",
    "        throw new UnsupportedOperationException(\"Método não implementado\");\n",
    "    }\n",
    "  \n",
    "}"
   ]
  },
  {
   "cell_type": "code",
   "execution_count": 5,
   "metadata": {},
   "outputs": [],
   "source": [
    "public class Acao extends Investimento {\n",
    "    private int quantidade;\n",
    "    private double precoPorAcao;\n",
    "    private double dividendoAnual;\n",
    "\n",
    "    public Acao(String nome, double valorInvestido, int quantidade, double precoPorAcao, double dividendoAnual) {\n",
    "        super(nome, valorInvestido);\n",
    "        this.quantidade = quantidade;\n",
    "        this.precoPorAcao = precoPorAcao;\n",
    "        this.dividendoAnual = dividendoAnual;\n",
    "    }\n",
    "\n",
    "    @Override\n",
    "    public double calcularRetornoAnual() {\n",
    "        return quantidade * dividendoAnual;\n",
    "    }\n",
    "\n",
    "    @Override\n",
    "    public double calcularDepreciacao() {\n",
    "        throw new UnsupportedOperationException(\"Método não implementado\");\n",
    "    }\n",
    "   \n",
    "\n",
    "    public double buscarPrecoPorAcao() {\n",
    "        return precoPorAcao;\n",
    "    }\n",
    "    \n",
    "    public String getNome() {\n",
    "        return nome;\n",
    "    }\n",
    "\n",
    "    public int buscarQuantidade(){\n",
    "        return quantidade;\n",
    "    }\n",
    "\n",
    "    public double buscarDividendoAnual(){\n",
    "        return quantidade;\n",
    "    }\n",
    "\n",
    "    @Override\n",
    "    public String toString() {\n",
    "        return \"Acao{\" +\n",
    "                \"nome='\" + nome + '\\'' +\n",
    "                \", valorInvestido=\" + valorInvestido +\n",
    "                \", quantidade=\" + quantidade +\n",
    "                \", precoPorAcao=\" + precoPorAcao +\n",
    "                \", dividendoAnual=\" + dividendoAnual +\n",
    "                '}';\n",
    "    }\n",
    "}"
   ]
  },
  {
   "cell_type": "code",
   "execution_count": 6,
   "metadata": {},
   "outputs": [],
   "source": [
    "public class Imovel extends Investimento {\n",
    "    private double aluguelMensal;\n",
    "\n",
    "    public Imovel(String nome, double valorInvestido, double aluguelMensal) {\n",
    "        super(nome, valorInvestido);\n",
    "        this.aluguelMensal = aluguelMensal;\n",
    "    }\n",
    "\n",
    "    @Override\n",
    "    public double calcularRetornoAnual() {\n",
    "        return this.aluguelMensal * 12;\n",
    "    }\n",
    "\n",
    "    public double calcularDepreciacao()\n",
    "    {\n",
    "        return valorInvestido * 0.05;\n",
    "    }\n",
    " \n",
    "}"
   ]
  },
  {
   "cell_type": "markdown",
   "metadata": {},
   "source": [
    "Rafatorando"
   ]
  },
  {
   "cell_type": "code",
   "execution_count": null,
   "metadata": {},
   "outputs": [],
   "source": [
    "public interface Depreciacao {\n",
    "    double calcularDepreciacao();\n",
    "}"
   ]
  },
  {
   "cell_type": "code",
   "execution_count": null,
   "metadata": {},
   "outputs": [],
   "source": [
    "public class DepreciacaoPrinter {\n",
    "    public static void imprimirDepreciacao(Depreciacao investimento) {\n",
    "        System.out.println(\"Retorno depois da depreciacao: R$ \" + investimento.calcularDepreciacao());\n",
    "    }\n",
    "}"
   ]
  }
 ],
 "metadata": {
  "kernelspec": {
   "display_name": "Java",
   "language": "java",
   "name": "java"
  },
  "language_info": {
   "codemirror_mode": "java",
   "file_extension": ".jshell",
   "mimetype": "text/x-java-source",
   "name": "java",
   "pygments_lexer": "java",
   "version": "22.0.2"
  }
 },
 "nbformat": 4,
 "nbformat_minor": 2
}
