{
 "cells": [
  {
   "cell_type": "markdown",
   "metadata": {},
   "source": [
    "O Princípio da Responsabilidade Única (SRP) é o primeiro princípio do SOLID. Ele afirma que uma classe deve ter apenas uma razão para mudar, ou seja, ela deve ter apenas uma responsabilidade.\n",
    "\n"
   ]
  },
  {
   "cell_type": "markdown",
   "metadata": {},
   "source": [
    "Classe abstrata"
   ]
  },
  {
   "cell_type": "code",
   "execution_count": 1,
   "metadata": {},
   "outputs": [],
   "source": [
    "public abstract class Investimento {\n",
    "    protected String nome;\n",
    "    protected Double valorInvestido;\n",
    "\n",
    "    public Investimento(String nome, double valorInvestido) {\n",
    "        this.nome = nome;\n",
    "        this.valorInvestido = valorInvestido;\n",
    "    }\n",
    "\n",
    "    public abstract double calcularRetornoAnual();\n",
    "\n",
    "    public String descrever() {\n",
    "        return \"Investimento: \" + nome + \", Valor Investido: R$ \" + valorInvestido;\n",
    "    }\n",
    "}\n"
   ]
  },
  {
   "cell_type": "markdown",
   "metadata": {},
   "source": [
    "Extends investimento"
   ]
  },
  {
   "cell_type": "code",
   "execution_count": 11,
   "metadata": {},
   "outputs": [],
   "source": [
    "public class Acao extends Investimento {\n",
    "    private int quantidade;\n",
    "    private double precoPorAcao;\n",
    "    private double dividendoAnual;\n",
    "\n",
    "    public Acao(String nome, double valorInvestido, int quantidade, double precoPorAcao, double dividendoAnual) {\n",
    "        super(nome, valorInvestido);\n",
    "        this.quantidade = quantidade;\n",
    "        this.precoPorAcao = precoPorAcao;\n",
    "        this.dividendoAnual = dividendoAnual;\n",
    "    }\n",
    "\n",
    "    @Override\n",
    "    public double calcularRetornoAnual() {\n",
    "        return quantidade * dividendoAnual;\n",
    "    }\n",
    "   \n",
    "\n",
    "    public double buscarPrecoPorAcao() {\n",
    "        return precoPorAcao;\n",
    "    }\n",
    "    \n",
    "    public String getNome() {\n",
    "        return nome;\n",
    "    }\n",
    "\n",
    "    public int buscarQuantidade(){\n",
    "        return quantidade;\n",
    "    }\n",
    "\n",
    "    public double buscarDividendoAnual(){\n",
    "        return quantidade;\n",
    "    }\n",
    "\n",
    "    @Override\n",
    "    public String toString() {\n",
    "        return \"Acao{\" +\n",
    "                \"nome='\" + nome + '\\'' +\n",
    "                \", valorInvestido=\" + valorInvestido +\n",
    "                \", quantidade=\" + quantidade +\n",
    "                \", precoPorAcao=\" + precoPorAcao +\n",
    "                \", dividendoAnual=\" + dividendoAnual +\n",
    "                '}';\n",
    "    }\n",
    "}\n"
   ]
  },
  {
   "cell_type": "markdown",
   "metadata": {},
   "source": [
    "Acao Service (Violação)"
   ]
  },
  {
   "cell_type": "code",
   "execution_count": 12,
   "metadata": {},
   "outputs": [],
   "source": [
    "public class AcaoService {\n",
    "    \n",
    "    public double calcularRetornoDividendos(Acao acao) {\n",
    "        return acao.buscarQuantidade() * acao.buscarDividendoAnual();\n",
    "    }\n",
    "\n",
    "    public String descrever(Acao acao) {\n",
    "        return \"Ação: \" + acao.getNome() + \n",
    "               \", Quantidade: \" + acao.buscarQuantidade() + \n",
    "               \", Preço por Ação: R$ \" + acao.buscarPrecoPorAcao() + \n",
    "               \", Dividendo Anual: R$ \" + acao.buscarDividendoAnual();\n",
    "    }\n",
    "\n",
    "    public void save(Acao acao) {\n",
    "        System.out.println(\"Saving investment: \" + acao.toString());\n",
    "    }\n",
    "}"
   ]
  },
  {
   "cell_type": "markdown",
   "metadata": {},
   "source": [
    "Executando"
   ]
  },
  {
   "cell_type": "code",
   "execution_count": 13,
   "metadata": {},
   "outputs": [
    {
     "name": "stdout",
     "output_type": "stream",
     "text": [
      "Ação: Empresa X, Quantidade: 100, Preço por Ação: R$ 50.0, Dividendo Anual: R$ 100.0\n",
      "Retorno anual: R$ 10000.0\n",
      "Saving investment: Acao{nome='Empresa X', valorInvestido=5000.0, quantidade=100, precoPorAcao=50.0, dividendoAnual=5.0}\n"
     ]
    }
   ],
   "source": [
    "\n",
    "        Acao acao = new Acao(\"Empresa X\", 5000.0, 100, 50.0, 5.0);\n",
    "        AcaoService acaoService = new AcaoService();\n",
    "\n",
    "        System.out.println(acaoService.descrever(acao));\n",
    "        System.out.println(\"Retorno anual: R$ \" + acaoService.calcularRetornoDividendos(acao));\n",
    "        acaoService.save(acao);\n",
    " "
   ]
  }
 ],
 "metadata": {
  "kernelspec": {
   "display_name": "Java",
   "language": "java",
   "name": "java"
  },
  "language_info": {
   "codemirror_mode": "java",
   "file_extension": ".jshell",
   "mimetype": "text/x-java-source",
   "name": "java",
   "pygments_lexer": "java",
   "version": "22.0.2"
  }
 },
 "nbformat": 4,
 "nbformat_minor": 2
}
