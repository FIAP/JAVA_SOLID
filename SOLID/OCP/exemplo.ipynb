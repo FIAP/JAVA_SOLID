{
 "cells": [
  {
   "cell_type": "markdown",
   "metadata": {},
   "source": [
    "O Princípio do Aberto/Fechado (OCP) é o segundo princípio do SOLID e afirma que entidades de software (classes, módulos, funções, etc.) devem estar abertas para extensão, mas fechadas para modificação. Isso significa que você deve ser capaz de adicionar novas funcionalidades sem alterar o código existente. https://programadriano.medium.com/princ%C3%ADpios-do-solid-com-typescript-2c6a4911242d\n"
   ]
  },
  {
   "cell_type": "code",
   "execution_count": 14,
   "metadata": {},
   "outputs": [],
   "source": [
    "public abstract class Investimento {\n",
    "    protected String nome;\n",
    "    protected Double valorInvestido;\n",
    "\n",
    "    public Investimento(String nome, double valorInvestido) {\n",
    "        this.nome = nome;\n",
    "        this.valorInvestido = valorInvestido;\n",
    "    }\n",
    "\n",
    "    public abstract double calcularRetornoAnual();\n",
    "\n",
    "    public String descrever() {\n",
    "        return \"Investimento: \" + nome + \", Valor Investido: R$ \" + valorInvestido;\n",
    "    }\n",
    "}"
   ]
  },
  {
   "cell_type": "markdown",
   "metadata": {},
   "source": [
    "Classe Acao"
   ]
  },
  {
   "cell_type": "code",
   "execution_count": 15,
   "metadata": {},
   "outputs": [],
   "source": [
    "public class Acao extends Investimento {\n",
    "    private int quantidade;\n",
    "    private double precoPorAcao;\n",
    "    private double dividendoAnual;\n",
    "\n",
    "    public Acao(String nome, double valorInvestido, int quantidade, double precoPorAcao, double dividendoAnual) {\n",
    "        super(nome, valorInvestido);\n",
    "        this.quantidade = quantidade;\n",
    "        this.precoPorAcao = precoPorAcao;\n",
    "        this.dividendoAnual = dividendoAnual;\n",
    "    }\n",
    "\n",
    "    @Override\n",
    "    public double calcularRetornoAnual() {\n",
    "        return quantidade * dividendoAnual;\n",
    "    }\n",
    "   \n",
    "\n",
    "    public double buscarPrecoPorAcao() {\n",
    "        return precoPorAcao;\n",
    "    }\n",
    "    \n",
    "    public String getNome() {\n",
    "        return nome;\n",
    "    }\n",
    "\n",
    "    public int buscarQuantidade(){\n",
    "        return quantidade;\n",
    "    }\n",
    "\n",
    "    public double buscarDividendoAnual(){\n",
    "        return quantidade;\n",
    "    }\n",
    "\n",
    "    @Override\n",
    "    public String toString() {\n",
    "        return \"Acao{\" +\n",
    "                \"nome='\" + nome + '\\'' +\n",
    "                \", valorInvestido=\" + valorInvestido +\n",
    "                \", quantidade=\" + quantidade +\n",
    "                \", precoPorAcao=\" + precoPorAcao +\n",
    "                \", dividendoAnual=\" + dividendoAnual +\n",
    "                '}';\n",
    "    }\n",
    "}\n",
    "\n"
   ]
  },
  {
   "cell_type": "markdown",
   "metadata": {},
   "source": [
    "Classe Titulo"
   ]
  },
  {
   "cell_type": "code",
   "execution_count": 16,
   "metadata": {},
   "outputs": [],
   "source": [
    "public class Titulo extends Investimento {\n",
    "    private double taxaDeJurosAnual;\n",
    "\n",
    "    public Titulo(String nome, double valorInvestido, double taxaDeJurosAnual) {\n",
    "        super(nome, valorInvestido);\n",
    "        this.taxaDeJurosAnual = taxaDeJurosAnual;\n",
    "    }\n",
    "\n",
    "    @Override\n",
    "    public double calcularRetornoAnual() {\n",
    "        return this.valorInvestido * (this.taxaDeJurosAnual / 100);\n",
    "    }\n",
    "  \n",
    "}"
   ]
  },
  {
   "cell_type": "markdown",
   "metadata": {},
   "source": [
    "Classe Imovel"
   ]
  },
  {
   "cell_type": "code",
   "execution_count": 18,
   "metadata": {},
   "outputs": [],
   "source": [
    "public class Imovel extends Investimento {\n",
    "    private double aluguelMensal;\n",
    "\n",
    "    public Imovel(String nome, double valorInvestido, double aluguelMensal) {\n",
    "        super(nome, valorInvestido);\n",
    "        this.aluguelMensal = aluguelMensal;\n",
    "    }\n",
    "\n",
    "    @Override\n",
    "    public double calcularRetornoAnual() {\n",
    "        return this.aluguelMensal * 12;\n",
    "    }\n",
    " \n",
    "}"
   ]
  },
  {
   "cell_type": "markdown",
   "metadata": {},
   "source": [
    "InvestimentoService"
   ]
  },
  {
   "cell_type": "code",
   "execution_count": 20,
   "metadata": {},
   "outputs": [],
   "source": [
    "public class InvestimentoService {\n",
    "    \n",
    "    public double calcularRetornoAnual(Investimento investimento) {\n",
    "        if (investimento instanceof Acao) {\n",
    "            Acao acao = (Acao) investimento;\n",
    "            return acao.calcularRetornoAnual();\n",
    "        } else if (investimento instanceof Titulo) {\n",
    "            Titulo titulo = (Titulo) investimento;\n",
    "            return titulo.calcularRetornoAnual();\n",
    "        } else if (investimento instanceof Imovel) {\n",
    "            Imovel imovel = (Imovel) investimento;\n",
    "            return imovel.calcularRetornoAnual();\n",
    "        }\n",
    "        throw new IllegalArgumentException(\"Tipo de investimento desconhecido\");\n",
    "    }\n",
    "   \n",
    "}\n"
   ]
  },
  {
   "cell_type": "code",
   "execution_count": 27,
   "metadata": {},
   "outputs": [
    {
     "name": "stdout",
     "output_type": "stream",
     "text": [
      "Retorno anual: R$ 50.0\n",
      "Retorno anual: R$ 500.0\n",
      "Retorno anual: R$ 24000.0\n"
     ]
    }
   ],
   "source": [
    "Investimento acao = new Acao(\"Empresa X\", 5000, 10, 50, 5);\n",
    "Investimento titulo = new Titulo(\"Título do Governo\", 10000, 5);\n",
    "Investimento imovel = new Imovel(\"Apartamento no Centro\", 300000, 2000);\n",
    "\n",
    "InvestimentoService investimentoService = new InvestimentoService();\n",
    "\n",
    "System.out.println(\"Retorno anual: R$ \" + investimentoService.calcularRetornoAnual(acao));\n",
    "\n",
    "System.out.println(\"Retorno anual: R$ \" + investimentoService.calcularRetornoAnual(titulo));\n",
    "\n",
    "System.out.println(\"Retorno anual: R$ \" + investimentoService.calcularRetornoAnual(imovel));"
   ]
  },
  {
   "cell_type": "markdown",
   "metadata": {},
   "source": [
    "Refatorando"
   ]
  },
  {
   "cell_type": "code",
   "execution_count": 29,
   "metadata": {},
   "outputs": [],
   "source": [
    "public interface IInvestimentoService<Investimento> {\n",
    "    double calcularRetornoAnual(investimento);\n",
    "}"
   ]
  },
  {
   "cell_type": "code",
   "execution_count": 30,
   "metadata": {},
   "outputs": [],
   "source": [
    "public class AcaoService implements IInvestimentoService<Acao> {\n",
    "    @Override\n",
    "    public double calcularRetornoAnual(Acao acao) {\n",
    "        return acao.calcularRetornoAnual();\n",
    "    }\n",
    "}"
   ]
  },
  {
   "cell_type": "code",
   "execution_count": 31,
   "metadata": {},
   "outputs": [],
   "source": [
    "public class TituloService implements IInvestimentoService<Titulo> {\n",
    "    @Override\n",
    "    public double calcularRetornoAnual(Titulo titulo) {\n",
    "        return titulo.calcularRetornoAnual();\n",
    "    }\n",
    "}"
   ]
  },
  {
   "cell_type": "code",
   "execution_count": 32,
   "metadata": {},
   "outputs": [],
   "source": [
    "public class ImovelService implements IInvestimentoService<Imovel> {\n",
    "    @Override\n",
    "    public double calcularRetornoAnual(Imovel imovel) {\n",
    "        return imovel.calcularRetornoAnual();\n",
    "    }\n",
    "}"
   ]
  },
  {
   "cell_type": "markdown",
   "metadata": {},
   "source": [
    "Registrando [DI]"
   ]
  },
  {
   "cell_type": "code",
   "execution_count": 35,
   "metadata": {},
   "outputs": [],
   "source": [
    "public class Container {\n",
    "    private Map<String, Class<?>> services = new HashMap<>();\n",
    "\n",
    "    public <T> void register(String name, Class<T> implementation) {\n",
    "        services.put(name, implementation);\n",
    "    }\n",
    "\n",
    "    public <T> T resolve(String name) {\n",
    "        Class<?> implementation = services.get(name);\n",
    "        if (implementation == null) {\n",
    "            throw new RuntimeException(\"Service not found: \" + name);\n",
    "        }\n",
    "        try {\n",
    "            return (T) implementation.getDeclaredConstructor().newInstance();\n",
    "        } catch (Exception e) {\n",
    "            throw new RuntimeException(\"Failed to instantiate service: \" + name, e);\n",
    "        }\n",
    "    }\n",
    "}"
   ]
  },
  {
   "cell_type": "markdown",
   "metadata": {},
   "source": [
    "Implementação"
   ]
  },
  {
   "cell_type": "code",
   "execution_count": 43,
   "metadata": {},
   "outputs": [
    {
     "name": "stdout",
     "output_type": "stream",
     "text": [
      "Retorno anual da ação: R$ 500.0\n",
      "Retorno anual do título: R$ 1000.0\n",
      "Retorno anual do imóvel: R$ 12000.0\n"
     ]
    }
   ],
   "source": [
    "Container container = new Container();\n",
    "container.register(\"AcaoService\", AcaoService.class);\n",
    "container.register(\"TituloService\", TituloService.class);\n",
    "container.register(\"ImovelService\", ImovelService.class);\n",
    "\n",
    "// Resolver serviços\n",
    "IInvestimentoService<Acao> acaoService = container.resolve(\"AcaoService\");\n",
    "IInvestimentoService<Titulo> tituloService = container.resolve(\"TituloService\");\n",
    "IInvestimentoService<Imovel> imovelService = container.resolve(\"ImovelService\");\n",
    "\n",
    "// Criar instâncias de investimento\n",
    "Acao acao = new Acao(\"Empresa X\", 5000, 100, 50, 5);\n",
    "Titulo titulo = new Titulo(\"Título do Governo\", 10000, 10);\n",
    "Imovel imovel = new Imovel(\"Apartamento no Centro\", 300000, 1000);\n",
    "\n",
    "// Usar os serviços\n",
    "System.out.println(\"Retorno anual da ação: R$ \" + acaoService.calcularRetornoAnual(acao));\n",
    "System.out.println(\"Retorno anual do título: R$ \" + tituloService.calcularRetornoAnual(titulo));\n",
    "System.out.println(\"Retorno anual do imóvel: R$ \" + imovelService.calcularRetornoAnual(imovel));"
   ]
  }
 ],
 "metadata": {
  "kernelspec": {
   "display_name": "Java",
   "language": "java",
   "name": "java"
  },
  "language_info": {
   "codemirror_mode": "java",
   "file_extension": ".jshell",
   "mimetype": "text/x-java-source",
   "name": "java",
   "pygments_lexer": "java",
   "version": "22.0.2"
  }
 },
 "nbformat": 4,
 "nbformat_minor": 2
}
