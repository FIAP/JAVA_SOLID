{
 "cells": [
  {
   "cell_type": "markdown",
   "metadata": {},
   "source": [
    "O Princípio de Substituição de Liskov (LSP) afirma que, se S é um subtipo de T, então objetos do tipo T devem poder ser substituídos por objetos do tipo S sem alterar as propriedades desejáveis do programa. Em outras palavras, as subclasses devem ser substituíveis por suas superclasses."
   ]
  },
  {
   "cell_type": "code",
   "execution_count": 3,
   "metadata": {
    "vscode": {
     "languageId": "java"
    }
   },
   "outputs": [],
   "source": [
    "public abstract class Investimento {\n",
    "    protected String nome;\n",
    "    protected Double valorInvestido;\n",
    "\n",
    "    public Investimento(String nome, double valorInvestido) {\n",
    "        this.nome = nome;\n",
    "        this.valorInvestido = valorInvestido;\n",
    "    }\n",
    "\n",
    "    public abstract double calcularRetornoAnual();\n",
    "\n",
    "    public String descrever() {\n",
    "        return \"Investimento: \" + nome + \", Valor Investido: R$ \" + valorInvestido;\n",
    "    }\n",
    "}"
   ]
  },
  {
   "cell_type": "code",
   "execution_count": 4,
   "metadata": {
    "vscode": {
     "languageId": "java"
    }
   },
   "outputs": [],
   "source": [
    "public class Acao extends Investimento {\n",
    "    private int quantidade;\n",
    "    private double precoPorAcao;\n",
    "    private double dividendoAnual;\n",
    "\n",
    "    public Acao(String nome, double valorInvestido, int quantidade, double precoPorAcao, double dividendoAnual) {\n",
    "        super(nome, valorInvestido);\n",
    "        this.quantidade = quantidade;\n",
    "        this.precoPorAcao = precoPorAcao;\n",
    "        this.dividendoAnual = dividendoAnual;\n",
    "    }\n",
    "\n",
    "    @Override\n",
    "    public double calcularRetornoAnual() {\n",
    "        return quantidade * dividendoAnual;\n",
    "    }\n",
    "   \n",
    "\n",
    "    public double buscarPrecoPorAcao() {\n",
    "        return precoPorAcao;\n",
    "    }\n",
    "    \n",
    "    public String getNome() {\n",
    "        return nome;\n",
    "    }\n",
    "\n",
    "    public int buscarQuantidade(){\n",
    "        return quantidade;\n",
    "    }\n",
    "\n",
    "    public double buscarDividendoAnual(){\n",
    "        return quantidade;\n",
    "    }\n",
    "\n",
    "    @Override\n",
    "    public String toString() {\n",
    "        return \"Acao{\" +\n",
    "                \"nome='\" + nome + '\\'' +\n",
    "                \", valorInvestido=\" + valorInvestido +\n",
    "                \", quantidade=\" + quantidade +\n",
    "                \", precoPorAcao=\" + precoPorAcao +\n",
    "                \", dividendoAnual=\" + dividendoAnual +\n",
    "                '}';\n",
    "    }\n",
    "}\n"
   ]
  },
  {
   "cell_type": "code",
   "execution_count": 5,
   "metadata": {
    "vscode": {
     "languageId": "java"
    }
   },
   "outputs": [],
   "source": [
    "public class Titulo extends Investimento {\n",
    "    private double taxaDeJurosAnual;\n",
    "\n",
    "    public Titulo(String nome, double valorInvestido, double taxaDeJurosAnual) {\n",
    "        super(nome, valorInvestido);\n",
    "        this.taxaDeJurosAnual = taxaDeJurosAnual;\n",
    "    }\n",
    "\n",
    "    @Override\n",
    "    public double calcularRetornoAnual() {\n",
    "        return this.valorInvestido * (this.taxaDeJurosAnual / 100);\n",
    "    }\n",
    "  \n",
    "}"
   ]
  },
  {
   "cell_type": "markdown",
   "metadata": {},
   "source": [
    "Metodo que calcula depreciacao"
   ]
  },
  {
   "cell_type": "code",
   "execution_count": 6,
   "metadata": {
    "vscode": {
     "languageId": "java"
    }
   },
   "outputs": [],
   "source": [
    "public class Imovel extends Investimento {\n",
    "    private double aluguelMensal;\n",
    "\n",
    "    public Imovel(String nome, double valorInvestido, double aluguelMensal) {\n",
    "        super(nome, valorInvestido);\n",
    "        this.aluguelMensal = aluguelMensal;\n",
    "    }\n",
    "\n",
    "    @Override\n",
    "    public double calcularRetornoAnual() {\n",
    "        return this.aluguelMensal * 12;\n",
    "    }\n",
    "\n",
    "    public double CalcularDepreciacao()\n",
    "    {\n",
    "        return valorInvestido * 0.05;\n",
    "    }\n",
    " \n",
    "}"
   ]
  },
  {
   "cell_type": "markdown",
   "metadata": {},
   "source": [
    "Função que espera trabalhar com a classe base Investimento"
   ]
  },
  {
   "cell_type": "code",
   "execution_count": 7,
   "metadata": {
    "vscode": {
     "languageId": "java"
    }
   },
   "outputs": [],
   "source": [
    "public class InvestimentoPrinter {\n",
    "    public static void imprimirRetornoAnual(Investimento investimento) {\n",
    "        System.out.println(investimento.descrever());\n",
    "        System.out.println(\"Retorno anual: R$ \" + investimento.calcularRetornoAnual());\n",
    "    }\n",
    "}\n"
   ]
  },
  {
   "cell_type": "code",
   "execution_count": 8,
   "metadata": {
    "vscode": {
     "languageId": "java"
    }
   },
   "outputs": [
    {
     "name": "stdout",
     "output_type": "stream",
     "text": [
      "Investimento: Empresa X, Valor Investido: R$ 5000.0\n",
      "Retorno anual: R$ 500.0\n",
      "Investimento: Título Y, Valor Investido: R$ 10000.0\n",
      "Retorno anual: R$ 700.0000000000001\n",
      "Investimento: Apartamento Z, Valor Investido: R$ 300000.0\n",
      "Retorno anual: R$ 18000.0\n"
     ]
    }
   ],
   "source": [
    "Investimento acao = new Acao(\"Empresa X\", 5000, 100, 50, 5);\n",
    "Investimento titulo = new Titulo(\"Título Y\", 10000, 7);\n",
    "Investimento imovel = new Imovel(\"Apartamento Z\", 300000, 1500);\n",
    "\n",
    "InvestimentoPrinter.imprimirRetornoAnual(acao);\n",
    "InvestimentoPrinter.imprimirRetornoAnual(titulo);\n",
    "InvestimentoPrinter.imprimirRetornoAnual(imovel);"
   ]
  },
  {
   "cell_type": "markdown",
   "metadata": {},
   "source": [
    "Fluxo: https://miro.com/app/board/uXjVKwF2VAc=/?share_link_id=738783734298 "
   ]
  },
  {
   "cell_type": "markdown",
   "metadata": {},
   "source": [
    "Atualizar o código com calcularDepreciacao"
   ]
  }
 ],
 "metadata": {
  "kernelspec": {
   "display_name": "Java",
   "language": "java",
   "name": "java"
  },
  "language_info": {
   "codemirror_mode": "java",
   "file_extension": ".jshell",
   "mimetype": "text/x-java-source",
   "name": "Java",
   "pygments_lexer": "java",
   "version": "22.0.2"
  }
 },
 "nbformat": 4,
 "nbformat_minor": 2
}
